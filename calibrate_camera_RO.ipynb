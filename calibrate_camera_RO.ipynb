{
 "cells": [
  {
   "cell_type": "code",
   "execution_count": 2,
   "metadata": {
    "collapsed": true
   },
   "outputs": [
    {
     "name": "stdout",
     "output_type": "stream",
     "text": [
      "/data/workspace/Picam-arUco/calib\n4.0.1\n./images_1640_1232_C95/50.png\n(1232, 1640, 3)\n"
     ]
    },
    {
     "name": "stdout",
     "output_type": "stream",
     "text": [
      "./images_1640_1232_C95/295.png\n(1232, 1640, 3)\n24\n./images_1640_1232_C95/105.png\n"
     ]
    },
    {
     "name": "stdout",
     "output_type": "stream",
     "text": [
      "(1232, 1640, 3)\n24\n./images_1640_1232_C95/262.png\n(1232, 1640, 3)\n"
     ]
    },
    {
     "name": "stdout",
     "output_type": "stream",
     "text": [
      "24\n./images_1640_1232_C95/158.png\n(1232, 1640, 3)\n24\n./images_1640_1232_C95/227.png\n(1232, 1640, 3)\n"
     ]
    },
    {
     "name": "stdout",
     "output_type": "stream",
     "text": [
      "24\n./images_1640_1232_C95/237.png\n(1232, 1640, 3)\n24\n./images_1640_1232_C95/159.png\n(1232, 1640, 3)\n"
     ]
    },
    {
     "name": "stdout",
     "output_type": "stream",
     "text": [
      "24\n./images_1640_1232_C95/229.png\n(1232, 1640, 3)\n24\n./images_1640_1232_C95/18.png\n(1232, 1640, 3)\n"
     ]
    },
    {
     "name": "stdout",
     "output_type": "stream",
     "text": [
      "./images_1640_1232_C95/181.png\n(1232, 1640, 3)\n24\n./images_1640_1232_C95/184.png\n(1232, 1640, 3)\n"
     ]
    },
    {
     "name": "stdout",
     "output_type": "stream",
     "text": [
      "24\n./images_1640_1232_C95/260.png\n(1232, 1640, 3)\n24\n./images_1640_1232_C95/226.png\n"
     ]
    },
    {
     "name": "stdout",
     "output_type": "stream",
     "text": [
      "(1232, 1640, 3)\n24\n./images_1640_1232_C95/126.png\n(1232, 1640, 3)\n"
     ]
    },
    {
     "name": "stdout",
     "output_type": "stream",
     "text": [
      "24\n./images_1640_1232_C95/57.png\n(1232, 1640, 3)\n"
     ]
    },
    {
     "name": "stdout",
     "output_type": "stream",
     "text": [
      "24\n./images_1640_1232_C95/161.png\n(1232, 1640, 3)\n24\n./images_1640_1232_C95/58.png\n(1232, 1640, 3)\n"
     ]
    },
    {
     "name": "stdout",
     "output_type": "stream",
     "text": [
      "24\n./images_1640_1232_C95/205.png\n(1232, 1640, 3)\n24\n./images_1640_1232_C95/317.png\n(1232, 1640, 3)\n"
     ]
    },
    {
     "name": "stdout",
     "output_type": "stream",
     "text": [
      "24\n./images_1640_1232_C95/306.png\n(1232, 1640, 3)\n24\n./images_1640_1232_C95/293.png\n"
     ]
    },
    {
     "name": "stdout",
     "output_type": "stream",
     "text": [
      "(1232, 1640, 3)\n24\n"
     ]
    },
    {
     "name": "stdout",
     "output_type": "stream",
     "text": [
      "./images_1640_1232_C95/85.png\n(1232, 1640, 3)\n24\n./images_1640_1232_C95/240.png\n(1232, 1640, 3)\n"
     ]
    },
    {
     "name": "stdout",
     "output_type": "stream",
     "text": [
      "24\n./images_1640_1232_C95/230.png\n(1232, 1640, 3)\n"
     ]
    },
    {
     "name": "stdout",
     "output_type": "stream",
     "text": [
      "24\n./images_1640_1232_C95/101.png\n(1232, 1640, 3)\n24\n./images_1640_1232_C95/74.png\n"
     ]
    },
    {
     "name": "stdout",
     "output_type": "stream",
     "text": [
      "(1232, 1640, 3)\n24\n./images_1640_1232_C95/73.png\n(1232, 1640, 3)\n"
     ]
    },
    {
     "name": "stdout",
     "output_type": "stream",
     "text": [
      "24\n./images_1640_1232_C95/175.png\n(1232, 1640, 3)\n24\n./images_1640_1232_C95/82.png\n"
     ]
    },
    {
     "name": "stdout",
     "output_type": "stream",
     "text": [
      "(1232, 1640, 3)\n24\n./images_1640_1232_C95/188.png\n(1232, 1640, 3)\n"
     ]
    },
    {
     "name": "stdout",
     "output_type": "stream",
     "text": [
      "24\n./images_1640_1232_C95/160.png\n(1232, 1640, 3)\n"
     ]
    },
    {
     "name": "stdout",
     "output_type": "stream",
     "text": [
      "24\n./images_1640_1232_C95/193.png\n(1232, 1640, 3)\n"
     ]
    },
    {
     "name": "stdout",
     "output_type": "stream",
     "text": [
      "24\n./images_1640_1232_C95/110.png\n(1232, 1640, 3)\n24\n./images_1640_1232_C95/28.png\n(1232, 1640, 3)\n"
     ]
    },
    {
     "name": "stdout",
     "output_type": "stream",
     "text": [
      "24\n./images_1640_1232_C95/292.png\n(1232, 1640, 3)\n24\n./images_1640_1232_C95/125.png\n"
     ]
    },
    {
     "name": "stdout",
     "output_type": "stream",
     "text": [
      "(1232, 1640, 3)\n24\n./images_1640_1232_C95/149.png\n"
     ]
    },
    {
     "name": "stdout",
     "output_type": "stream",
     "text": [
      "(1232, 1640, 3)\n24\n./images_1640_1232_C95/16.png\n(1232, 1640, 3)\n"
     ]
    },
    {
     "name": "stdout",
     "output_type": "stream",
     "text": [
      "./images_1640_1232_C95/45.png\n(1232, 1640, 3)\n24\n./images_1640_1232_C95/20.png\n(1232, 1640, 3)\n"
     ]
    },
    {
     "name": "stdout",
     "output_type": "stream",
     "text": [
      "24\n./images_1640_1232_C95/98.png\n(1232, 1640, 3)\n24\n"
     ]
    },
    {
     "name": "stdout",
     "output_type": "stream",
     "text": [
      "./images_1640_1232_C95/217.png\n(1232, 1640, 3)\n24\n./images_1640_1232_C95/31.png\n(1232, 1640, 3)\n"
     ]
    },
    {
     "name": "stdout",
     "output_type": "stream",
     "text": [
      "24\n./images_1640_1232_C95/246.png\n(1232, 1640, 3)\n./images_1640_1232_C95/130.png\n(1232, 1640, 3)\n"
     ]
    },
    {
     "name": "stdout",
     "output_type": "stream",
     "text": [
      "24\n./images_1640_1232_C95/252.png\n(1232, 1640, 3)\n"
     ]
    },
    {
     "name": "stdout",
     "output_type": "stream",
     "text": [
      "./images_1640_1232_C95/304.png\n(1232, 1640, 3)\n24\n./images_1640_1232_C95/108.png\n(1232, 1640, 3)\n"
     ]
    },
    {
     "name": "stdout",
     "output_type": "stream",
     "text": [
      "24\n./images_1640_1232_C95/26.png\n(1232, 1640, 3)\n24\n./images_1640_1232_C95/256.png\n"
     ]
    },
    {
     "name": "stdout",
     "output_type": "stream",
     "text": [
      "(1232, 1640, 3)\n24\n./images_1640_1232_C95/312.png\n(1232, 1640, 3)\n"
     ]
    },
    {
     "name": "stdout",
     "output_type": "stream",
     "text": [
      "24\n./images_1640_1232_C95/251.png\n(1232, 1640, 3)\n./images_1640_1232_C95/121.png\n(1232, 1640, 3)\n"
     ]
    },
    {
     "name": "stdout",
     "output_type": "stream",
     "text": [
      "24\n./images_1640_1232_C95/327.png\n(1232, 1640, 3)\n24\n./images_1640_1232_C95/95.png\n(1232, 1640, 3)\n"
     ]
    },
    {
     "name": "stdout",
     "output_type": "stream",
     "text": [
      "24\n./images_1640_1232_C95/30.png\n(1232, 1640, 3)\n"
     ]
    },
    {
     "name": "stdout",
     "output_type": "stream",
     "text": [
      "24\n./images_1640_1232_C95/169.png\n(1232, 1640, 3)\n./images_1640_1232_C95/272.png\n(1232, 1640, 3)\n"
     ]
    },
    {
     "name": "stdout",
     "output_type": "stream",
     "text": [
      "24\n./images_1640_1232_C95/162.png\n(1232, 1640, 3)\n24\n./images_1640_1232_C95/32.png\n(1232, 1640, 3)\n"
     ]
    },
    {
     "name": "stdout",
     "output_type": "stream",
     "text": [
      "24\n./images_1640_1232_C95/42.png\n(1232, 1640, 3)\n24\n./images_1640_1232_C95/49.png\n(1232, 1640, 3)\n"
     ]
    },
    {
     "name": "stdout",
     "output_type": "stream",
     "text": [
      "./images_1640_1232_C95/11.png\n(1232, 1640, 3)\n./images_1640_1232_C95/89.png\n"
     ]
    },
    {
     "name": "stdout",
     "output_type": "stream",
     "text": [
      "(1232, 1640, 3)\n24\n./images_1640_1232_C95/213.png\n(1232, 1640, 3)\n"
     ]
    },
    {
     "name": "stdout",
     "output_type": "stream",
     "text": [
      "24\n./images_1640_1232_C95/288.png\n(1232, 1640, 3)\n"
     ]
    },
    {
     "name": "stdout",
     "output_type": "stream",
     "text": [
      "24\n./images_1640_1232_C95/153.png\n(1232, 1640, 3)\n24\n./images_1640_1232_C95/212.png\n(1232, 1640, 3)\n"
     ]
    },
    {
     "name": "stdout",
     "output_type": "stream",
     "text": [
      "24\n./images_1640_1232_C95/69.png\n(1232, 1640, 3)\n24\n./images_1640_1232_C95/325.png\n(1232, 1640, 3)\n"
     ]
    },
    {
     "name": "stdout",
     "output_type": "stream",
     "text": [
      "24\n./images_1640_1232_C95/285.png\n(1232, 1640, 3)\n24\n./images_1640_1232_C95/136.png\n(1232, 1640, 3)\n"
     ]
    },
    {
     "name": "stdout",
     "output_type": "stream",
     "text": [
      "./images_1640_1232_C95/109.png\n(1232, 1640, 3)\n24\n./images_1640_1232_C95/279.png\n(1232, 1640, 3)\n"
     ]
    },
    {
     "name": "stdout",
     "output_type": "stream",
     "text": [
      "24\n./images_1640_1232_C95/147.png\n(1232, 1640, 3)\n24\n./images_1640_1232_C95/244.png\n(1232, 1640, 3)\n"
     ]
    },
    {
     "name": "stdout",
     "output_type": "stream",
     "text": [
      "./images_1640_1232_C95/189.png\n(1232, 1640, 3)\n"
     ]
    },
    {
     "name": "stdout",
     "output_type": "stream",
     "text": [
      "24\n./images_1640_1232_C95/277.png\n(1232, 1640, 3)\n"
     ]
    },
    {
     "name": "stdout",
     "output_type": "stream",
     "text": [
      "24\n./images_1640_1232_C95/9.png\n(1232, 1640, 3)\n24\n./images_1640_1232_C95/282.png\n"
     ]
    },
    {
     "name": "stdout",
     "output_type": "stream",
     "text": [
      "(1232, 1640, 3)\n24\n./images_1640_1232_C95/100.png\n(1232, 1640, 3)\n"
     ]
    },
    {
     "name": "stdout",
     "output_type": "stream",
     "text": [
      "24\n./images_1640_1232_C95/214.png\n(1232, 1640, 3)\n"
     ]
    },
    {
     "name": "stdout",
     "output_type": "stream",
     "text": [
      "./images_1640_1232_C95/243.png\n(1232, 1640, 3)\n./images_1640_1232_C95/323.png\n(1232, 1640, 3)\n"
     ]
    },
    {
     "name": "stdout",
     "output_type": "stream",
     "text": [
      "24\n./images_1640_1232_C95/166.png\n(1232, 1640, 3)\n24\n./images_1640_1232_C95/201.png\n(1232, 1640, 3)\n"
     ]
    },
    {
     "name": "stdout",
     "output_type": "stream",
     "text": [
      "24\n./images_1640_1232_C95/80.png\n(1232, 1640, 3)\n24\n./images_1640_1232_C95/43.png\n(1232, 1640, 3)\n"
     ]
    },
    {
     "name": "stdout",
     "output_type": "stream",
     "text": [
      "24\n./images_1640_1232_C95/195.png\n(1232, 1640, 3)\n24\n./images_1640_1232_C95/12.png\n(1232, 1640, 3)\n"
     ]
    },
    {
     "name": "stdout",
     "output_type": "stream",
     "text": [
      "./images_1640_1232_C95/289.png\n(1232, 1640, 3)\n24\n./images_1640_1232_C95/254.png\n(1232, 1640, 3)\n"
     ]
    },
    {
     "name": "stdout",
     "output_type": "stream",
     "text": [
      "24\n./images_1640_1232_C95/24.png\n(1232, 1640, 3)\n24\n./images_1640_1232_C95/273.png\n"
     ]
    },
    {
     "name": "stdout",
     "output_type": "stream",
     "text": [
      "(1232, 1640, 3)\n24\n./images_1640_1232_C95/93.png\n(1232, 1640, 3)\n"
     ]
    },
    {
     "name": "stdout",
     "output_type": "stream",
     "text": [
      "24\n./images_1640_1232_C95/231.png\n(1232, 1640, 3)\n24\n./images_1640_1232_C95/6.png\n(1232, 1640, 3)\n"
     ]
    },
    {
     "name": "stdout",
     "output_type": "stream",
     "text": [
      "./images_1640_1232_C95/72.png\n(1232, 1640, 3)\n24\n./images_1640_1232_C95/52.png\n(1232, 1640, 3)\n"
     ]
    },
    {
     "name": "stdout",
     "output_type": "stream",
     "text": [
      "./images_1640_1232_C95/261.png\n(1232, 1640, 3)\n./images_1640_1232_C95/148.png\n"
     ]
    },
    {
     "name": "stdout",
     "output_type": "stream",
     "text": [
      "(1232, 1640, 3)\n24\n./images_1640_1232_C95/102.png\n(1232, 1640, 3)\n"
     ]
    },
    {
     "name": "stdout",
     "output_type": "stream",
     "text": [
      "24\n./images_1640_1232_C95/274.png\n(1232, 1640, 3)\n24\n./images_1640_1232_C95/270.png\n(1232, 1640, 3)\n"
     ]
    },
    {
     "name": "stdout",
     "output_type": "stream",
     "text": [
      "24\n./images_1640_1232_C95/278.png\n(1232, 1640, 3)\n24\n./images_1640_1232_C95/27.png\n(1232, 1640, 3)\n"
     ]
    },
    {
     "name": "stdout",
     "output_type": "stream",
     "text": [
      "24\n./images_1640_1232_C95/294.png\n(1232, 1640, 3)\n24\n./images_1640_1232_C95/176.png\n(1232, 1640, 3)\n"
     ]
    },
    {
     "name": "stdout",
     "output_type": "stream",
     "text": [
      "24\n./images_1640_1232_C95/324.png\n(1232, 1640, 3)\n24\n./images_1640_1232_C95/263.png\n(1232, 1640, 3)\n"
     ]
    },
    {
     "name": "stdout",
     "output_type": "stream",
     "text": [
      "24\n./images_1640_1232_C95/34.png\n(1232, 1640, 3)\n24\n./images_1640_1232_C95/239.png\n(1232, 1640, 3)\n"
     ]
    },
    {
     "name": "stdout",
     "output_type": "stream",
     "text": [
      "24\n./images_1640_1232_C95/120.png\n(1232, 1640, 3)\n24\n./images_1640_1232_C95/79.png\n(1232, 1640, 3)\n"
     ]
    },
    {
     "name": "stdout",
     "output_type": "stream",
     "text": [
      "24\n./images_1640_1232_C95/104.png\n(1232, 1640, 3)\n24\n./images_1640_1232_C95/269.png\n(1232, 1640, 3)\n"
     ]
    },
    {
     "name": "stdout",
     "output_type": "stream",
     "text": [
      "24\n./images_1640_1232_C95/264.png\n(1232, 1640, 3)\n24\n./images_1640_1232_C95/117.png\n(1232, 1640, 3)\n"
     ]
    },
    {
     "name": "stdout",
     "output_type": "stream",
     "text": [
      "24\n./images_1640_1232_C95/124.png\n(1232, 1640, 3)\n24\n./images_1640_1232_C95/198.png\n(1232, 1640, 3)\n"
     ]
    },
    {
     "name": "stdout",
     "output_type": "stream",
     "text": [
      "24\n./images_1640_1232_C95/238.png\n(1232, 1640, 3)\n24\n./images_1640_1232_C95/67.png\n(1232, 1640, 3)\n"
     ]
    },
    {
     "name": "stdout",
     "output_type": "stream",
     "text": [
      "24\n./images_1640_1232_C95/38.png\n(1232, 1640, 3)\n"
     ]
    },
    {
     "name": "stdout",
     "output_type": "stream",
     "text": [
      "24\n./images_1640_1232_C95/255.png\n(1232, 1640, 3)\n"
     ]
    },
    {
     "name": "stdout",
     "output_type": "stream",
     "text": [
      "24\n./images_1640_1232_C95/55.png\n(1232, 1640, 3)\n24\n./images_1640_1232_C95/163.png\n"
     ]
    },
    {
     "name": "stdout",
     "output_type": "stream",
     "text": [
      "(1232, 1640, 3)\n24\n./images_1640_1232_C95/92.png\n(1232, 1640, 3)\n"
     ]
    },
    {
     "name": "stdout",
     "output_type": "stream",
     "text": [
      "24\n./images_1640_1232_C95/78.png\n(1232, 1640, 3)\n"
     ]
    },
    {
     "name": "stdout",
     "output_type": "stream",
     "text": [
      "24\n./images_1640_1232_C95/178.png\n(1232, 1640, 3)\n24\n./images_1640_1232_C95/157.png\n(1232, 1640, 3)\n"
     ]
    },
    {
     "name": "stdout",
     "output_type": "stream",
     "text": [
      "24\n./images_1640_1232_C95/111.png\n(1232, 1640, 3)\n24\n./images_1640_1232_C95/319.png\n(1232, 1640, 3)\n"
     ]
    },
    {
     "name": "stdout",
     "output_type": "stream",
     "text": [
      "24\n./images_1640_1232_C95/236.png\n(1232, 1640, 3)\n24\n./images_1640_1232_C95/115.png\n(1232, 1640, 3)\n"
     ]
    },
    {
     "name": "stdout",
     "output_type": "stream",
     "text": [
      "24\n./images_1640_1232_C95/83.png\n(1232, 1640, 3)\n24\n./images_1640_1232_C95/41.png\n"
     ]
    },
    {
     "name": "stdout",
     "output_type": "stream",
     "text": [
      "(1232, 1640, 3)\n24\n./images_1640_1232_C95/88.png\n"
     ]
    },
    {
     "name": "stdout",
     "output_type": "stream",
     "text": [
      "(1232, 1640, 3)\n24\n./images_1640_1232_C95/192.png\n(1232, 1640, 3)\n"
     ]
    },
    {
     "name": "stdout",
     "output_type": "stream",
     "text": [
      "24\n./images_1640_1232_C95/249.png\n(1232, 1640, 3)\n./images_1640_1232_C95/311.png\n(1232, 1640, 3)\n"
     ]
    },
    {
     "name": "stdout",
     "output_type": "stream",
     "text": [
      "24\n./images_1640_1232_C95/207.png\n(1232, 1640, 3)\n24\n./images_1640_1232_C95/7.png\n(1232, 1640, 3)\n"
     ]
    },
    {
     "name": "stdout",
     "output_type": "stream",
     "text": [
      "24\n./images_1640_1232_C95/235.png\n(1232, 1640, 3)\n24\n./images_1640_1232_C95/139.png\n"
     ]
    },
    {
     "name": "stdout",
     "output_type": "stream",
     "text": [
      "(1232, 1640, 3)\n24\n./images_1640_1232_C95/200.png\n"
     ]
    },
    {
     "name": "stdout",
     "output_type": "stream",
     "text": [
      "(1232, 1640, 3)\n24\n./images_1640_1232_C95/22.png\n(1232, 1640, 3)\n"
     ]
    },
    {
     "name": "stdout",
     "output_type": "stream",
     "text": [
      "./images_1640_1232_C95/225.png\n(1232, 1640, 3)\n"
     ]
    },
    {
     "name": "stdout",
     "output_type": "stream",
     "text": [
      "24\n./images_1640_1232_C95/183.png\n(1232, 1640, 3)\n24\n./images_1640_1232_C95/190.png\n"
     ]
    },
    {
     "name": "stdout",
     "output_type": "stream",
     "text": [
      "(1232, 1640, 3)\n24\n./images_1640_1232_C95/219.png\n(1232, 1640, 3)\n"
     ]
    },
    {
     "name": "stdout",
     "output_type": "stream",
     "text": [
      "24\n./images_1640_1232_C95/103.png\n(1232, 1640, 3)\n24\n./images_1640_1232_C95/258.png\n(1232, 1640, 3)\n"
     ]
    },
    {
     "name": "stdout",
     "output_type": "stream",
     "text": [
      "24\n./images_1640_1232_C95/216.png\n(1232, 1640, 3)\n"
     ]
    },
    {
     "name": "stdout",
     "output_type": "stream",
     "text": [
      "24\n./images_1640_1232_C95/170.png\n(1232, 1640, 3)\n"
     ]
    },
    {
     "name": "stdout",
     "output_type": "stream",
     "text": [
      "./images_1640_1232_C95/202.png\n(1232, 1640, 3)\n24\n"
     ]
    },
    {
     "name": "stdout",
     "output_type": "stream",
     "text": [
      "./images_1640_1232_C95/303.png\n(1232, 1640, 3)\n24\n./images_1640_1232_C95/298.png\n(1232, 1640, 3)\n"
     ]
    },
    {
     "name": "stdout",
     "output_type": "stream",
     "text": [
      "24\n./images_1640_1232_C95/204.png\n(1232, 1640, 3)\n"
     ]
    },
    {
     "name": "stdout",
     "output_type": "stream",
     "text": [
      "24\n./images_1640_1232_C95/86.png\n(1232, 1640, 3)\n24\n./images_1640_1232_C95/63.png\n(1232, 1640, 3)\n"
     ]
    },
    {
     "name": "stdout",
     "output_type": "stream",
     "text": [
      "24\n./images_1640_1232_C95/257.png\n(1232, 1640, 3)\n"
     ]
    },
    {
     "name": "stdout",
     "output_type": "stream",
     "text": [
      "24\n./images_1640_1232_C95/81.png\n(1232, 1640, 3)\n24\n./images_1640_1232_C95/299.png\n(1232, 1640, 3)\n"
     ]
    },
    {
     "name": "stdout",
     "output_type": "stream",
     "text": [
      "24\n./images_1640_1232_C95/283.png\n(1232, 1640, 3)\n24\n./images_1640_1232_C95/180.png\n(1232, 1640, 3)\n"
     ]
    },
    {
     "name": "stdout",
     "output_type": "stream",
     "text": [
      "24\n./images_1640_1232_C95/56.png\n(1232, 1640, 3)\n24\n./images_1640_1232_C95/247.png\n(1232, 1640, 3)\n"
     ]
    },
    {
     "name": "stdout",
     "output_type": "stream",
     "text": [
      "./images_1640_1232_C95/330.png\n(1232, 1640, 3)\n24\n./images_1640_1232_C95/107.png\n"
     ]
    },
    {
     "name": "stdout",
     "output_type": "stream",
     "text": [
      "(1232, 1640, 3)\n24\n./images_1640_1232_C95/132.png\n(1232, 1640, 3)\n"
     ]
    },
    {
     "name": "stdout",
     "output_type": "stream",
     "text": [
      "./images_1640_1232_C95/97.png\n(1232, 1640, 3)\n24\n./images_1640_1232_C95/14.png\n(1232, 1640, 3)\n"
     ]
    },
    {
     "name": "stdout",
     "output_type": "stream",
     "text": [
      "./images_1640_1232_C95/265.png\n(1232, 1640, 3)\n24\n./images_1640_1232_C95/290.png\n(1232, 1640, 3)\n"
     ]
    },
    {
     "name": "stdout",
     "output_type": "stream",
     "text": [
      "24\n./images_1640_1232_C95/62.png\n(1232, 1640, 3)\n24\n./images_1640_1232_C95/96.png\n(1232, 1640, 3)\n"
     ]
    },
    {
     "name": "stdout",
     "output_type": "stream",
     "text": [
      "24\n./images_1640_1232_C95/308.png\n(1232, 1640, 3)\n"
     ]
    },
    {
     "name": "stdout",
     "output_type": "stream",
     "text": [
      "24\n./images_1640_1232_C95/142.png\n(1232, 1640, 3)\n24\n./images_1640_1232_C95/137.png\n"
     ]
    },
    {
     "name": "stdout",
     "output_type": "stream",
     "text": [
      "(1232, 1640, 3)\n24\n./images_1640_1232_C95/5.png\n(1232, 1640, 3)\n"
     ]
    },
    {
     "name": "stdout",
     "output_type": "stream",
     "text": [
      "./images_1640_1232_C95/242.png\n(1232, 1640, 3)\n./images_1640_1232_C95/150.png\n(1232, 1640, 3)\n"
     ]
    },
    {
     "name": "stdout",
     "output_type": "stream",
     "text": [
      "24\n./images_1640_1232_C95/76.png\n(1232, 1640, 3)\n24\n./images_1640_1232_C95/23.png\n(1232, 1640, 3)\n"
     ]
    },
    {
     "name": "stdout",
     "output_type": "stream",
     "text": [
      "./images_1640_1232_C95/209.png\n(1232, 1640, 3)\n24\n./images_1640_1232_C95/33.png\n(1232, 1640, 3)\n"
     ]
    },
    {
     "name": "stdout",
     "output_type": "stream",
     "text": [
      "24\n./images_1640_1232_C95/194.png\n(1232, 1640, 3)\n24\n./images_1640_1232_C95/70.png\n"
     ]
    },
    {
     "name": "stdout",
     "output_type": "stream",
     "text": [
      "(1232, 1640, 3)\n24\n./images_1640_1232_C95/302.png\n"
     ]
    },
    {
     "name": "stdout",
     "output_type": "stream",
     "text": [
      "(1232, 1640, 3)\n24\n./images_1640_1232_C95/307.png\n(1232, 1640, 3)\n"
     ]
    },
    {
     "name": "stdout",
     "output_type": "stream",
     "text": [
      "./images_1640_1232_C95/51.png\n(1232, 1640, 3)\n./images_1640_1232_C95/3.png\n"
     ]
    },
    {
     "name": "stdout",
     "output_type": "stream",
     "text": [
      "(1232, 1640, 3)\n"
     ]
    },
    {
     "name": "stdout",
     "output_type": "stream",
     "text": [
      "./images_1640_1232_C95/10.png\n(1232, 1640, 3)\n24\n./images_1640_1232_C95/224.png\n(1232, 1640, 3)\n"
     ]
    },
    {
     "name": "stdout",
     "output_type": "stream",
     "text": [
      "24\n./images_1640_1232_C95/2.png\n(1232, 1640, 3)\n"
     ]
    },
    {
     "name": "stdout",
     "output_type": "stream",
     "text": [
      "./images_1640_1232_C95/75.png\n(1232, 1640, 3)\n24\n./images_1640_1232_C95/47.png\n(1232, 1640, 3)\n"
     ]
    },
    {
     "name": "stdout",
     "output_type": "stream",
     "text": [
      "24\n./images_1640_1232_C95/196.png\n(1232, 1640, 3)\n24\n./images_1640_1232_C95/106.png\n(1232, 1640, 3)\n"
     ]
    },
    {
     "name": "stdout",
     "output_type": "stream",
     "text": [
      "24\n./images_1640_1232_C95/40.png\n(1232, 1640, 3)\n24\n./images_1640_1232_C95/8.png\n(1232, 1640, 3)\n"
     ]
    },
    {
     "name": "stdout",
     "output_type": "stream",
     "text": [
      "24\n./images_1640_1232_C95/61.png\n(1232, 1640, 3)\n24\n./images_1640_1232_C95/271.png\n(1232, 1640, 3)\n"
     ]
    },
    {
     "name": "stdout",
     "output_type": "stream",
     "text": [
      "24\n./images_1640_1232_C95/301.png\n(1232, 1640, 3)\n24\n./images_1640_1232_C95/118.png\n(1232, 1640, 3)\n"
     ]
    },
    {
     "name": "stdout",
     "output_type": "stream",
     "text": [
      "24\n./images_1640_1232_C95/77.png\n(1232, 1640, 3)\n"
     ]
    },
    {
     "name": "stdout",
     "output_type": "stream",
     "text": [
      "24\n./images_1640_1232_C95/253.png\n(1232, 1640, 3)\n24\n./images_1640_1232_C95/35.png\n(1232, 1640, 3)\n"
     ]
    },
    {
     "name": "stdout",
     "output_type": "stream",
     "text": [
      "24\n./images_1640_1232_C95/37.png\n(1232, 1640, 3)\n24\n./images_1640_1232_C95/206.png\n(1232, 1640, 3)\n"
     ]
    },
    {
     "name": "stdout",
     "output_type": "stream",
     "text": [
      "24\n./images_1640_1232_C95/128.png\n(1232, 1640, 3)\n24\n./images_1640_1232_C95/91.png\n(1232, 1640, 3)\n"
     ]
    },
    {
     "name": "stdout",
     "output_type": "stream",
     "text": [
      "24\n./images_1640_1232_C95/4.png\n(1232, 1640, 3)\n"
     ]
    },
    {
     "name": "stdout",
     "output_type": "stream",
     "text": [
      "24\n./images_1640_1232_C95/17.png\n(1232, 1640, 3)\n./images_1640_1232_C95/59.png\n(1232, 1640, 3)\n"
     ]
    },
    {
     "name": "stdout",
     "output_type": "stream",
     "text": [
      "24\n./images_1640_1232_C95/316.png\n(1232, 1640, 3)\n24\n"
     ]
    },
    {
     "name": "stdout",
     "output_type": "stream",
     "text": [
      "./images_1640_1232_C95/140.png\n(1232, 1640, 3)\n24\n./images_1640_1232_C95/197.png\n"
     ]
    },
    {
     "name": "stdout",
     "output_type": "stream",
     "text": [
      "(1232, 1640, 3)\n24\n./images_1640_1232_C95/135.png\n(1232, 1640, 3)\n"
     ]
    },
    {
     "name": "stdout",
     "output_type": "stream",
     "text": [
      "./images_1640_1232_C95/64.png\n(1232, 1640, 3)\n24\n./images_1640_1232_C95/297.png\n(1232, 1640, 3)\n"
     ]
    },
    {
     "name": "stdout",
     "output_type": "stream",
     "text": [
      "24\n./images_1640_1232_C95/65.png\n(1232, 1640, 3)\n24\n./images_1640_1232_C95/215.png\n(1232, 1640, 3)\n"
     ]
    },
    {
     "name": "stdout",
     "output_type": "stream",
     "text": [
      "24\n./images_1640_1232_C95/173.png\n(1232, 1640, 3)\n24\n./images_1640_1232_C95/315.png\n"
     ]
    },
    {
     "name": "stdout",
     "output_type": "stream",
     "text": [
      "(1232, 1640, 3)\n24\n./images_1640_1232_C95/220.png\n(1232, 1640, 3)\n"
     ]
    },
    {
     "name": "stdout",
     "output_type": "stream",
     "text": [
      "24\n./images_1640_1232_C95/280.png\n(1232, 1640, 3)\n24\n./images_1640_1232_C95/68.png\n(1232, 1640, 3)\n"
     ]
    },
    {
     "name": "stdout",
     "output_type": "stream",
     "text": [
      "24\n./images_1640_1232_C95/199.png\n(1232, 1640, 3)\n24\n./images_1640_1232_C95/90.png\n(1232, 1640, 3)\n"
     ]
    },
    {
     "name": "stdout",
     "output_type": "stream",
     "text": [
      "24\n./images_1640_1232_C95/48.png\n(1232, 1640, 3)\n./images_1640_1232_C95/131.png\n(1232, 1640, 3)\n"
     ]
    },
    {
     "name": "stdout",
     "output_type": "stream",
     "text": [
      "./images_1640_1232_C95/182.png\n(1232, 1640, 3)\n24\n./images_1640_1232_C95/267.png\n(1232, 1640, 3)\n"
     ]
    },
    {
     "name": "stdout",
     "output_type": "stream",
     "text": [
      "24\n./images_1640_1232_C95/44.png\n(1232, 1640, 3)\n24\n./images_1640_1232_C95/155.png\n(1232, 1640, 3)\n"
     ]
    },
    {
     "name": "stdout",
     "output_type": "stream",
     "text": [
      "24\n./images_1640_1232_C95/1.png\n(1232, 1640, 3)\n"
     ]
    },
    {
     "name": "stdout",
     "output_type": "stream",
     "text": [
      "./images_1640_1232_C95/123.png\n(1232, 1640, 3)\n24\n./images_1640_1232_C95/19.png\n(1232, 1640, 3)\n"
     ]
    },
    {
     "name": "stdout",
     "output_type": "stream",
     "text": [
      "./images_1640_1232_C95/259.png\n(1232, 1640, 3)\n"
     ]
    },
    {
     "name": "stdout",
     "output_type": "stream",
     "text": [
      "24\n./images_1640_1232_C95/268.png\n(1232, 1640, 3)\n24\n./images_1640_1232_C95/234.png\n"
     ]
    },
    {
     "name": "stdout",
     "output_type": "stream",
     "text": [
      "(1232, 1640, 3)\n24\n./images_1640_1232_C95/318.png\n(1232, 1640, 3)\n"
     ]
    },
    {
     "name": "stdout",
     "output_type": "stream",
     "text": [
      "24\n./images_1640_1232_C95/232.png\n(1232, 1640, 3)\n24\n"
     ]
    },
    {
     "name": "stdout",
     "output_type": "stream",
     "text": [
      "./images_1640_1232_C95/314.png\n(1232, 1640, 3)\n24\n./images_1640_1232_C95/156.png\n(1232, 1640, 3)\n"
     ]
    },
    {
     "name": "stdout",
     "output_type": "stream",
     "text": [
      "24\n./images_1640_1232_C95/310.png\n(1232, 1640, 3)\n"
     ]
    },
    {
     "name": "stdout",
     "output_type": "stream",
     "text": [
      "24\n./images_1640_1232_C95/134.png\n(1232, 1640, 3)\n"
     ]
    },
    {
     "name": "stdout",
     "output_type": "stream",
     "text": [
      "./images_1640_1232_C95/53.png\n(1232, 1640, 3)\n./images_1640_1232_C95/284.png\n"
     ]
    },
    {
     "name": "stdout",
     "output_type": "stream",
     "text": [
      "(1232, 1640, 3)\n24\n./images_1640_1232_C95/241.png\n(1232, 1640, 3)\n"
     ]
    },
    {
     "name": "stdout",
     "output_type": "stream",
     "text": [
      "./images_1640_1232_C95/228.png\n(1232, 1640, 3)\n24\n./images_1640_1232_C95/114.png\n(1232, 1640, 3)\n"
     ]
    },
    {
     "name": "stdout",
     "output_type": "stream",
     "text": [
      "24\n./images_1640_1232_C95/152.png\n(1232, 1640, 3)\n24\n./images_1640_1232_C95/248.png\n(1232, 1640, 3)\n"
     ]
    },
    {
     "name": "stdout",
     "output_type": "stream",
     "text": [
      "./images_1640_1232_C95/281.png\n(1232, 1640, 3)\n24\n./images_1640_1232_C95/287.png\n(1232, 1640, 3)\n"
     ]
    },
    {
     "name": "stdout",
     "output_type": "stream",
     "text": [
      "24\n./images_1640_1232_C95/54.png\n(1232, 1640, 3)\n"
     ]
    },
    {
     "name": "stdout",
     "output_type": "stream",
     "text": [
      "24\n./images_1640_1232_C95/233.png\n(1232, 1640, 3)\n24\n./images_1640_1232_C95/21.png\n(1232, 1640, 3)\n"
     ]
    },
    {
     "name": "stdout",
     "output_type": "stream",
     "text": [
      "./images_1640_1232_C95/113.png\n(1232, 1640, 3)\n./images_1640_1232_C95/300.png\n(1232, 1640, 3)\n"
     ]
    },
    {
     "name": "stdout",
     "output_type": "stream",
     "text": [
      "24\n./images_1640_1232_C95/84.png\n(1232, 1640, 3)\n24\n./images_1640_1232_C95/305.png\n"
     ]
    },
    {
     "name": "stdout",
     "output_type": "stream",
     "text": [
      "(1232, 1640, 3)\n24\n./images_1640_1232_C95/187.png\n"
     ]
    },
    {
     "name": "stdout",
     "output_type": "stream",
     "text": [
      "(1232, 1640, 3)\n24\n./images_1640_1232_C95/211.png\n(1232, 1640, 3)\n"
     ]
    },
    {
     "name": "stdout",
     "output_type": "stream",
     "text": [
      "24\n./images_1640_1232_C95/154.png\n(1232, 1640, 3)\n24\n./images_1640_1232_C95/172.png\n(1232, 1640, 3)\n"
     ]
    },
    {
     "name": "stdout",
     "output_type": "stream",
     "text": [
      "24\n./images_1640_1232_C95/99.png\n(1232, 1640, 3)\n24\n./images_1640_1232_C95/15.png\n(1232, 1640, 3)\n"
     ]
    },
    {
     "name": "stdout",
     "output_type": "stream",
     "text": [
      "./images_1640_1232_C95/116.png\n(1232, 1640, 3)\n24\n./images_1640_1232_C95/177.png\n(1232, 1640, 3)\n"
     ]
    },
    {
     "name": "stdout",
     "output_type": "stream",
     "text": [
      "24\n./images_1640_1232_C95/320.png\n(1232, 1640, 3)\n"
     ]
    },
    {
     "name": "stdout",
     "output_type": "stream",
     "text": [
      "24\n./images_1640_1232_C95/222.png\n(1232, 1640, 3)\n./images_1640_1232_C95/13.png\n"
     ]
    },
    {
     "name": "stdout",
     "output_type": "stream",
     "text": [
      "(1232, 1640, 3)\n./images_1640_1232_C95/223.png\n(1232, 1640, 3)\n"
     ]
    },
    {
     "name": "stdout",
     "output_type": "stream",
     "text": [
      "24\n./images_1640_1232_C95/328.png\n(1232, 1640, 3)\n24\n./images_1640_1232_C95/168.png\n(1232, 1640, 3)\n"
     ]
    },
    {
     "name": "stdout",
     "output_type": "stream",
     "text": [
      "./images_1640_1232_C95/122.png\n(1232, 1640, 3)\n24\n./images_1640_1232_C95/138.png\n(1232, 1640, 3)\n"
     ]
    },
    {
     "name": "stdout",
     "output_type": "stream",
     "text": [
      "24\n./images_1640_1232_C95/186.png\n(1232, 1640, 3)\n24\n./images_1640_1232_C95/174.png\n"
     ]
    },
    {
     "name": "stdout",
     "output_type": "stream",
     "text": [
      "(1232, 1640, 3)\n24\n./images_1640_1232_C95/326.png\n(1232, 1640, 3)\n"
     ]
    },
    {
     "name": "stdout",
     "output_type": "stream",
     "text": [
      "24\n./images_1640_1232_C95/266.png\n(1232, 1640, 3)\n"
     ]
    },
    {
     "name": "stdout",
     "output_type": "stream",
     "text": [
      "24\n./images_1640_1232_C95/165.png\n(1232, 1640, 3)\n24\n./images_1640_1232_C95/322.png\n"
     ]
    },
    {
     "name": "stdout",
     "output_type": "stream",
     "text": [
      "(1232, 1640, 3)\n24\n./images_1640_1232_C95/321.png\n(1232, 1640, 3)\n"
     ]
    },
    {
     "name": "stdout",
     "output_type": "stream",
     "text": [
      "24\n./images_1640_1232_C95/309.png\n(1232, 1640, 3)\n24\n./images_1640_1232_C95/46.png\n(1232, 1640, 3)\n"
     ]
    },
    {
     "name": "stdout",
     "output_type": "stream",
     "text": [
      "24\n./images_1640_1232_C95/221.png\n(1232, 1640, 3)\n"
     ]
    },
    {
     "name": "stdout",
     "output_type": "stream",
     "text": [
      "./images_1640_1232_C95/143.png\n(1232, 1640, 3)\n24\n./images_1640_1232_C95/286.png\n(1232, 1640, 3)\n"
     ]
    },
    {
     "name": "stdout",
     "output_type": "stream",
     "text": [
      "24\n./images_1640_1232_C95/87.png\n(1232, 1640, 3)\n24\n./images_1640_1232_C95/218.png\n"
     ]
    },
    {
     "name": "stdout",
     "output_type": "stream",
     "text": [
      "(1232, 1640, 3)\n24\n./images_1640_1232_C95/144.png\n"
     ]
    },
    {
     "name": "stdout",
     "output_type": "stream",
     "text": [
      "(1232, 1640, 3)\n24\n"
     ]
    },
    {
     "name": "stdout",
     "output_type": "stream",
     "text": [
      "./images_1640_1232_C95/313.png\n(1232, 1640, 3)\n24\n./images_1640_1232_C95/146.png\n"
     ]
    },
    {
     "name": "stdout",
     "output_type": "stream",
     "text": [
      "(1232, 1640, 3)\n24\n./images_1640_1232_C95/171.png\n"
     ]
    },
    {
     "name": "stdout",
     "output_type": "stream",
     "text": [
      "(1232, 1640, 3)\n./images_1640_1232_C95/127.png\n(1232, 1640, 3)\n"
     ]
    },
    {
     "name": "stdout",
     "output_type": "stream",
     "text": [
      "24\n./images_1640_1232_C95/208.png\n(1232, 1640, 3)\n24\n./images_1640_1232_C95/29.png\n"
     ]
    },
    {
     "name": "stdout",
     "output_type": "stream",
     "text": [
      "(1232, 1640, 3)\n24\n./images_1640_1232_C95/276.png\n(1232, 1640, 3)\n"
     ]
    },
    {
     "name": "stdout",
     "output_type": "stream",
     "text": [
      "24\n./images_1640_1232_C95/179.png\n(1232, 1640, 3)\n24\n./images_1640_1232_C95/329.png\n"
     ]
    },
    {
     "name": "stdout",
     "output_type": "stream",
     "text": [
      "(1232, 1640, 3)\n24\n./images_1640_1232_C95/151.png\n(1232, 1640, 3)\n"
     ]
    },
    {
     "name": "stdout",
     "output_type": "stream",
     "text": [
      "24\n./images_1640_1232_C95/129.png\n(1232, 1640, 3)\n24\n"
     ]
    },
    {
     "name": "stdout",
     "output_type": "stream",
     "text": [
      "./images_1640_1232_C95/133.png\n(1232, 1640, 3)\n./images_1640_1232_C95/145.png\n(1232, 1640, 3)\n"
     ]
    },
    {
     "name": "stdout",
     "output_type": "stream",
     "text": [
      "24\n./images_1640_1232_C95/36.png\n(1232, 1640, 3)\n24\n./images_1640_1232_C95/191.png\n"
     ]
    },
    {
     "name": "stdout",
     "output_type": "stream",
     "text": [
      "(1232, 1640, 3)\n24\n./images_1640_1232_C95/275.png\n(1232, 1640, 3)\n"
     ]
    },
    {
     "name": "stdout",
     "output_type": "stream",
     "text": [
      "24\n./images_1640_1232_C95/25.png\n(1232, 1640, 3)\n"
     ]
    },
    {
     "name": "stdout",
     "output_type": "stream",
     "text": [
      "24\n./images_1640_1232_C95/66.png\n(1232, 1640, 3)\n24\n./images_1640_1232_C95/203.png\n"
     ]
    },
    {
     "name": "stdout",
     "output_type": "stream",
     "text": [
      "(1232, 1640, 3)\n24\n./images_1640_1232_C95/210.png\n(1232, 1640, 3)\n"
     ]
    },
    {
     "name": "stdout",
     "output_type": "stream",
     "text": [
      "24\n./images_1640_1232_C95/296.png\n(1232, 1640, 3)\n24\n./images_1640_1232_C95/60.png\n"
     ]
    },
    {
     "name": "stdout",
     "output_type": "stream",
     "text": [
      "(1232, 1640, 3)\n24\n./images_1640_1232_C95/141.png\n(1232, 1640, 3)\n"
     ]
    },
    {
     "name": "stdout",
     "output_type": "stream",
     "text": [
      "24\n./images_1640_1232_C95/291.png\n(1232, 1640, 3)\n"
     ]
    },
    {
     "name": "stdout",
     "output_type": "stream",
     "text": [
      "24\n./images_1640_1232_C95/94.png\n(1232, 1640, 3)\n24\n./images_1640_1232_C95/185.png\n(1232, 1640, 3)\n"
     ]
    },
    {
     "name": "stdout",
     "output_type": "stream",
     "text": [
      "24\n./images_1640_1232_C95/245.png\n(1232, 1640, 3)\n./images_1640_1232_C95/39.png\n"
     ]
    },
    {
     "name": "stdout",
     "output_type": "stream",
     "text": [
      "(1232, 1640, 3)\n24\n./images_1640_1232_C95/167.png\n(1232, 1640, 3)\n"
     ]
    },
    {
     "name": "stdout",
     "output_type": "stream",
     "text": [
      "./images_1640_1232_C95/71.png\n(1232, 1640, 3)\n24\n./images_1640_1232_C95/119.png\n"
     ]
    },
    {
     "name": "stdout",
     "output_type": "stream",
     "text": [
      "(1232, 1640, 3)\n24\n./images_1640_1232_C95/164.png\n(1232, 1640, 3)\n"
     ]
    },
    {
     "name": "stdout",
     "output_type": "stream",
     "text": [
      "24\n./images_1640_1232_C95/112.png\n(1232, 1640, 3)\n./images_1640_1232_C95/250.png\n(1232, 1640, 3)\n"
     ]
    },
    {
     "name": "stdout",
     "output_type": "stream",
     "text": [
      "277 277\n(1232, 1640)\n('Accepted: ', 277)\n('Rejected: ', 52)\n"
     ]
    }
   ],
   "source": [
    "import cv2\n",
    "import numpy as np\n",
    "import os\n",
    "os.chdir('/data/workspace/Picam-arUco/calib/')\n",
    "cwd = os.getcwd()\n",
    "print cwd\n",
    "\n",
    "import time\n",
    "import cv2.aruco as A\n",
    "import cv2\n",
    "import numpy as np\n",
    "import os\n",
    "import random\n",
    "from sklearn.utils import shuffle\n",
    "print (cv2.__version__)\n",
    "dictionary = cv2.aruco.getPredefinedDictionary(cv2.aruco.DICT_6X6_50)\n",
    "board = cv2.aruco.CharucoBoard_create(5,7,.051,.03,dictionary)\n",
    "#img = board.draw((200*3,200*3))\n",
    "\n",
    "#Dump the calibration board to a file\n",
    "#cv2.imwrite('charuco.png',img)\n",
    "\"\"\"use pdf instead \"\"\"\n",
    "\n",
    "#Start capturing images for calibration\n",
    "#cap = cv2.VideoCapture(0)\n",
    "rejected = 0\n",
    "acctepted = 0\n",
    "count = 500\n",
    "allCorners = []\n",
    "allIds = []\n",
    "decimator = 0\n",
    "# path to images to be used for calibration\n",
    "impath = './images_1640_1232_C95/'\n",
    "# name of saved matrices Picam_v2_dist_+cal_name ...\n",
    "cal_name = '1640_C95'\n",
    "images = os.listdir(impath)\n",
    "images.sort()\n",
    "images = shuffle(images,random_state=2)\n",
    "# print (images)\n",
    "cv2.namedWindow('image', cv2.WINDOW_NORMAL)\n",
    "cv2.resizeWindow('image', 1280,720)\n",
    "\n",
    "#o_dist = np.load('Picam_v2_dist_1640_ncm_91.npy')\n",
    "#o_mtx = np.load('Picam_v2_mtx_1640_ncm_91.npy')\n",
    "for idx, i in enumerate(images):\n",
    "    #print (idx)\n",
    "    #if idx >= count:\n",
    "    #    break\n",
    "    image = impath + i\n",
    "    print (image)\n",
    "    #frame = cv2.imread(image,0)\n",
    "    frame = cv2.imread(image)\n",
    "    print (frame.shape)\n",
    "    #ret,frame = cap.read()\n",
    "    gray = cv2.cvtColor(frame, cv2.COLOR_BGR2GRAY)\n",
    "    #gray = cv2.undistort(gray,o_mtx,o_dist)\n",
    "    #gray = frame\n",
    "    #print (gray.shape)\n",
    "    res = cv2.aruco.detectMarkers(gray,dictionary)\n",
    "\n",
    "    if len(res[0])>0:\n",
    "        res2 = cv2.aruco.interpolateCornersCharuco(res[0],res[1],gray,board)\n",
    "        if res2[1] is not None and res2[2] is not None and len(res2[1])>23 and decimator%1==0:\n",
    "            #print ('accepted')\n",
    "            print len(res2[1])\n",
    "            acctepted += 1\n",
    "            allCorners.append(res2[1])\n",
    "            allIds.append(res2[2])\n",
    "            if acctepted >= count:\n",
    "                break\n",
    "        else:\n",
    "            rejected += 1\n",
    "            #print ('rejected')\n",
    "        cv2.aruco.drawDetectedMarkers(frame,res[0],res[1])\n",
    "    cv2.imshow('image',frame)\n",
    "    if cv2.waitKey(1) & 0xFF == ord('q'):\n",
    "        break\n",
    "\n",
    "    decimator+=1\n",
    "#print(np.array(allIds[0][0]).shape, np.array(allCorners[0][0]).shape)\n",
    "print len(allIds),len(allCorners)\n",
    "#print(allIds[0])\n",
    "imsize = gray.shape\n",
    "print (imsize)\n",
    "\n",
    "print ('Accepted: ', acctepted)\n",
    "print ('Rejected: ', rejected)\n",
    "cv2.destroyAllWindows()"
   ]
  },
  {
   "cell_type": "code",
   "execution_count": 3,
   "metadata": {},
   "outputs": [],
   "source": [
    "allCorners1, allIds1 = shuffle(allCorners,allIds)\n",
    "allIds1 = allIds1[:int(len(allIds)/2)]\n",
    "allCorners1 = allCorners1[:int(len(allIds)/2)]"
   ]
  },
  {
   "cell_type": "code",
   "execution_count": 4,
   "metadata": {},
   "outputs": [
    {
     "name": "stdout",
     "output_type": "stream",
     "text": [
      "(138, 24, 1)\n3312\n<aruco_CharucoBoard 0x7f0b801858f0>\n"
     ]
    }
   ],
   "source": [
    "#rms = cv2.calibrateCameraRO()\n",
    "print(np.shape(allIds1))\n",
    "n_detetctions = 0\n",
    "size=0\n",
    "for dim in allIds1: size += len(dim)\n",
    "print(size)\n",
    "print(board)"
   ]
  },
  {
   "cell_type": "code",
   "execution_count": 5,
   "metadata": {},
   "outputs": [
    {
     "data": {
      "text/plain": [
       "24"
      ]
     },
     "execution_count": 5,
     "metadata": {},
     "output_type": "execute_result"
    }
   ],
   "source": [
    "len(board.chessboardCorners)"
   ]
  },
  {
   "cell_type": "code",
   "execution_count": 15,
   "metadata": {
    "collapsed": true
   },
   "outputs": [
    {
     "name": "stdout",
     "output_type": "stream",
     "text": [
      "[array([[[1039.1724 ,  786.44995]],\n\n       [[1043.4214 ,  664.7713 ]],\n\n       [[1048.249  ,  549.042  ]],\n\n       [[1053.5261 ,  434.98608]],\n\n       [[1043.4214 ,  664.7713 ]],\n\n       [[1048.249  ,  549.042  ]],\n\n       [[1053.5261 ,  434.98608]],\n\n       [[ 939.81934,  773.37177]],\n\n       [[1048.249  ,  549.042  ]],\n\n       [[1053.5261 ,  434.98608]],\n\n       [[ 939.81934,  773.37177]],\n\n       [[ 946.4161 ,  646.6866 ]],\n\n       [[1053.5261 ,  434.98608]],\n\n       [[ 939.81934,  773.37177]],\n\n       [[ 946.4161 ,  646.6866 ]],\n\n       [[ 953.0836 ,  525.7802 ]],\n\n       [[ 939.81934,  773.37177]],\n\n       [[ 946.4161 ,  646.6866 ]],\n\n       [[ 953.0836 ,  525.7802 ]],\n\n       [[ 959.9009 ,  406.69485]],\n\n       [[ 946.4161 ,  646.6866 ]],\n\n       [[ 953.0836 ,  525.7802 ]],\n\n       [[ 959.9009 ,  406.69485]],\n\n       [[ 832.7186 ,  759.86755]],\n\n       [[ 953.0836 ,  525.7802 ]],\n\n       [[ 959.9009 ,  406.69485]],\n\n       [[ 832.7186 ,  759.86755]],\n\n       [[ 841.7832 ,  627.0292 ]],\n\n       [[ 959.9009 ,  406.69485]],\n\n       [[ 832.7186 ,  759.86755]],\n\n       [[ 841.7832 ,  627.0292 ]],\n\n       [[ 850.5807 ,  500.43677]],\n\n       [[ 832.7186 ,  759.86755]],\n\n       [[ 841.7832 ,  627.0292 ]],\n\n       [[ 850.5807 ,  500.43677]],\n\n       [[ 859.335  ,  376.05066]],\n\n       [[ 841.7832 ,  627.0292 ]],\n\n       [[ 850.5807 ,  500.43677]],\n\n       [[ 859.335  ,  376.05066]],\n\n       [[ 712.2063 ,  744.58777]],\n\n       [[ 850.5807 ,  500.43677]],\n\n       [[ 859.335  ,  376.05066]],\n\n       [[ 712.2063 ,  744.58777]],\n\n       [[ 724.2785 ,  605.08563]],\n\n       [[ 859.335  ,  376.05066]],\n\n       [[ 712.2063 ,  744.58777]],\n\n       [[ 724.2785 ,  605.08563]],\n\n       [[ 735.76764,  471.85028]],\n\n       [[ 712.2063 ,  744.58777]],\n\n       [[ 724.2785 ,  605.08563]],\n\n       [[ 735.76764,  471.85028]],\n\n       [[ 746.6948 ,  341.2454 ]],\n\n       [[ 724.2785 ,  605.08563]],\n\n       [[ 735.76764,  471.85028]],\n\n       [[ 746.6948 ,  341.2454 ]],\n\n       [[ 578.10345,  728.3374 ]],\n\n       [[ 735.76764,  471.85028]],\n\n       [[ 746.6948 ,  341.2454 ]],\n\n       [[ 578.10345,  728.3374 ]],\n\n       [[ 593.847  ,  580.365  ]],\n\n       [[ 746.6948 ,  341.2454 ]],\n\n       [[ 578.10345,  728.3374 ]],\n\n       [[ 593.847  ,  580.365  ]],\n\n       [[ 608.4478 ,  440.04947]],\n\n       [[ 578.10345,  728.3374 ]],\n\n       [[ 593.847  ,  580.365  ]],\n\n       [[ 608.4478 ,  440.04947]],\n\n       [[ 622.25726,  301.56656]]], dtype=float32)]\n"
     ]
    }
   ],
   "source": [
    "'''\n",
    "objPoints, imgPoints = [] ,[]\n",
    "for ac, ai in zip(allCorners1,allIds1):\n",
    "    \n",
    "    FRobjPoints, FRimgPoints=cv2.aruco.getBoardObjectAndImagePoints(board,ac,ai)\n",
    "    objPoints.append(FRobjPoints)\n",
    "    imgPoints.append(FRimgPoints)\n",
    "print (imgPoints[:1])\n",
    "'''"
   ]
  },
  {
   "cell_type": "code",
   "execution_count": 16,
   "metadata": {},
   "outputs": [],
   "source": [
    "objPoints, imgPoints = [board.chessboardCorners for i in allIds1] ,allCorners1"
   ]
  },
  {
   "cell_type": "code",
   "execution_count": 41,
   "metadata": {
    "collapsed": true
   },
   "outputs": [
    {
     "name": "stdout",
     "output_type": "stream",
     "text": [
      "[0.051 0.051 0.   ]\n3\n"
     ]
    }
   ],
   "source": [
    "print(board.chessboardCorners[0])\n",
    "print(len(objPoints[0][0]))"
   ]
  },
  {
   "cell_type": "code",
   "execution_count": 46,
   "metadata": {},
   "outputs": [
    {
     "name": "stdout",
     "output_type": "stream",
     "text": [
      "0.69530812542\n"
     ]
    }
   ],
   "source": [
    "#cameraMatrix = np.array([])\n",
    "#distCoeffs = np.array([])\n",
    "retval, cal1,cal2 = [], [], []\n",
    "retval = cv2.calibrateCameraRO(objPoints, imgPoints, imsize,4,None,None)\n",
    "#cal1 = cv2.calibrateCamera(objPoints, imgPoints, imsize,None,None)\n",
    "#cal2 = cv2.aruco.calibrateCameraCharuco(allCorners1, allIds1, board, imsize, None, None)\n",
    "print retval[0]\n",
    "#print cal1[0]\n",
    "#print cal2[0]"
   ]
  },
  {
   "cell_type": "code",
   "execution_count": 35,
   "metadata": {},
   "outputs": [],
   "source": [
    "#print retval[0]\n",
    "#print cal1[0]\n",
    "#print cal2[0]\n",
    "#cal = cal1\n",
    "cal = retval\n"
   ]
  },
  {
   "cell_type": "code",
   "execution_count": null,
   "metadata": {},
   "outputs": [],
   "source": []
  },
  {
   "cell_type": "code",
   "execution_count": 30,
   "metadata": {
    "collapsed": true
   },
   "outputs": [
    {
     "name": "stdout",
     "output_type": "stream",
     "text": [
      "./images_1640_1232_C95/50.png\n(1232, 1640, 3)\n<type 'numpy.ndarray'>\n('max', 255)\n('min', 0)\n"
     ]
    },
    {
     "name": "stdout",
     "output_type": "stream",
     "text": [
      "./images_1640_1232_C95/295.png\n(1232, 1640, 3)\n<type 'numpy.ndarray'>\n('max', 255)\n('min', 0)\n"
     ]
    },
    {
     "name": "stdout",
     "output_type": "stream",
     "text": [
      "./images_1640_1232_C95/105.png\n(1232, 1640, 3)\n<type 'numpy.ndarray'>\n('max', 255)\n('min', 0)\n./images_1640_1232_C95/262.png\n"
     ]
    },
    {
     "name": "stdout",
     "output_type": "stream",
     "text": [
      "(1232, 1640, 3)\n<type 'numpy.ndarray'>\n('max', 255)\n('min', 0)\n./images_1640_1232_C95/158.png\n(1232, 1640, 3)\n"
     ]
    },
    {
     "name": "stdout",
     "output_type": "stream",
     "text": [
      "<type 'numpy.ndarray'>\n('max', 255)\n('min', 0)\n./images_1640_1232_C95/227.png\n(1232, 1640, 3)\n"
     ]
    },
    {
     "name": "stdout",
     "output_type": "stream",
     "text": [
      "<type 'numpy.ndarray'>\n('max', 255)\n('min', 0)\n./images_1640_1232_C95/237.png\n(1232, 1640, 3)\n"
     ]
    },
    {
     "name": "stdout",
     "output_type": "stream",
     "text": [
      "<type 'numpy.ndarray'>\n('max', 255)\n('min', 0)\n./images_1640_1232_C95/159.png\n(1232, 1640, 3)\n"
     ]
    },
    {
     "name": "stdout",
     "output_type": "stream",
     "text": [
      "<type 'numpy.ndarray'>\n('max', 255)\n('min', 0)\n./images_1640_1232_C95/229.png\n(1232, 1640, 3)\n"
     ]
    },
    {
     "name": "stdout",
     "output_type": "stream",
     "text": [
      "<type 'numpy.ndarray'>\n('max', 255)\n('min', 0)\n./images_1640_1232_C95/18.png\n(1232, 1640, 3)\n"
     ]
    },
    {
     "name": "stdout",
     "output_type": "stream",
     "text": [
      "<type 'numpy.ndarray'>\n('max', 255)\n('min', 0)\n./images_1640_1232_C95/181.png\n(1232, 1640, 3)\n<type 'numpy.ndarray'>\n"
     ]
    },
    {
     "name": "stdout",
     "output_type": "stream",
     "text": [
      "('max', 255)\n('min', 0)\n./images_1640_1232_C95/184.png\n(1232, 1640, 3)\n"
     ]
    },
    {
     "name": "stdout",
     "output_type": "stream",
     "text": [
      "<type 'numpy.ndarray'>\n('max', 255)\n('min', 0)\n./images_1640_1232_C95/260.png\n(1232, 1640, 3)\n<type 'numpy.ndarray'>\n('max', 255)\n('min', 0)\n"
     ]
    },
    {
     "name": "stdout",
     "output_type": "stream",
     "text": [
      "./images_1640_1232_C95/226.png\n(1232, 1640, 3)\n<type 'numpy.ndarray'>\n('max', 255)\n('min', 0)\n"
     ]
    },
    {
     "name": "stdout",
     "output_type": "stream",
     "text": [
      "./images_1640_1232_C95/126.png\n(1232, 1640, 3)\n<type 'numpy.ndarray'>\n('max', 255)\n('min', 0)\n"
     ]
    },
    {
     "name": "stdout",
     "output_type": "stream",
     "text": [
      "./images_1640_1232_C95/57.png\n(1232, 1640, 3)\n<type 'numpy.ndarray'>\n('max', 255)\n('min', 0)\n./images_1640_1232_C95/161.png\n"
     ]
    },
    {
     "name": "stdout",
     "output_type": "stream",
     "text": [
      "(1232, 1640, 3)\n<type 'numpy.ndarray'>\n('max', 255)\n('min', 0)\n./images_1640_1232_C95/58.png\n"
     ]
    },
    {
     "name": "stdout",
     "output_type": "stream",
     "text": [
      "(1232, 1640, 3)\n<type 'numpy.ndarray'>\n('max', 255)\n('min', 0)\n./images_1640_1232_C95/205.png\n"
     ]
    },
    {
     "name": "stdout",
     "output_type": "stream",
     "text": [
      "(1232, 1640, 3)\n<type 'numpy.ndarray'>\n('max', 255)\n('min', 0)\n./images_1640_1232_C95/317.png\n(1232, 1640, 3)\n"
     ]
    },
    {
     "name": "stdout",
     "output_type": "stream",
     "text": [
      "<type 'numpy.ndarray'>\n('max', 255)\n('min', 0)\n./images_1640_1232_C95/306.png\n(1232, 1640, 3)\n"
     ]
    },
    {
     "name": "stdout",
     "output_type": "stream",
     "text": [
      "<type 'numpy.ndarray'>\n('max', 255)\n('min', 0)\n./images_1640_1232_C95/293.png\n(1232, 1640, 3)\n"
     ]
    },
    {
     "name": "stdout",
     "output_type": "stream",
     "text": [
      "<type 'numpy.ndarray'>\n('max', 255)\n('min', 0)\n./images_1640_1232_C95/85.png\n(1232, 1640, 3)\n<type 'numpy.ndarray'>\n('max', 255)\n('min', 0)\n"
     ]
    },
    {
     "name": "stdout",
     "output_type": "stream",
     "text": [
      "./images_1640_1232_C95/240.png\n(1232, 1640, 3)\n<type 'numpy.ndarray'>\n('max', 255)\n('min', 0)\n"
     ]
    },
    {
     "name": "stdout",
     "output_type": "stream",
     "text": [
      "./images_1640_1232_C95/230.png\n(1232, 1640, 3)\n<type 'numpy.ndarray'>\n('max', 255)\n('min', 0)\n./images_1640_1232_C95/101.png\n"
     ]
    },
    {
     "name": "stdout",
     "output_type": "stream",
     "text": [
      "(1232, 1640, 3)\n<type 'numpy.ndarray'>\n('max', 255)\n('min', 0)\n./images_1640_1232_C95/74.png\n"
     ]
    },
    {
     "name": "stdout",
     "output_type": "stream",
     "text": [
      "(1232, 1640, 3)\n<type 'numpy.ndarray'>\n('max', 255)\n('min', 0)\n./images_1640_1232_C95/73.png\n"
     ]
    },
    {
     "name": "stdout",
     "output_type": "stream",
     "text": [
      "(1232, 1640, 3)\n<type 'numpy.ndarray'>\n('max', 255)\n('min', 0)\n./images_1640_1232_C95/175.png\n"
     ]
    },
    {
     "name": "stdout",
     "output_type": "stream",
     "text": [
      "(1232, 1640, 3)\n<type 'numpy.ndarray'>\n('max', 255)\n('min', 0)\n./images_1640_1232_C95/82.png\n"
     ]
    },
    {
     "name": "stdout",
     "output_type": "stream",
     "text": [
      "(1232, 1640, 3)\n<type 'numpy.ndarray'>\n('max', 255)\n('min', 0)\n"
     ]
    },
    {
     "name": "stdout",
     "output_type": "stream",
     "text": [
      "./images_1640_1232_C95/188.png\n(1232, 1640, 3)\n<type 'numpy.ndarray'>\n('max', 255)\n('min', 0)\n"
     ]
    },
    {
     "name": "stdout",
     "output_type": "stream",
     "text": [
      "./images_1640_1232_C95/160.png\n(1232, 1640, 3)\n<type 'numpy.ndarray'>\n('max', 255)\n('min', 0)\n"
     ]
    },
    {
     "name": "stdout",
     "output_type": "stream",
     "text": [
      "./images_1640_1232_C95/193.png\n(1232, 1640, 3)\n<type 'numpy.ndarray'>\n('max', 255)\n('min', 0)\n"
     ]
    },
    {
     "name": "stdout",
     "output_type": "stream",
     "text": [
      "./images_1640_1232_C95/110.png\n(1232, 1640, 3)\n<type 'numpy.ndarray'>\n('max', 255)\n('min', 0)\n"
     ]
    },
    {
     "name": "stdout",
     "output_type": "stream",
     "text": [
      "./images_1640_1232_C95/28.png\n(1232, 1640, 3)\n<type 'numpy.ndarray'>\n('max', 255)\n('min', 0)\n"
     ]
    },
    {
     "name": "stdout",
     "output_type": "stream",
     "text": [
      "./images_1640_1232_C95/292.png\n(1232, 1640, 3)\n<type 'numpy.ndarray'>\n('max', 255)\n('min', 0)\n"
     ]
    },
    {
     "name": "stdout",
     "output_type": "stream",
     "text": [
      "./images_1640_1232_C95/125.png\n(1232, 1640, 3)\n<type 'numpy.ndarray'>\n('max', 255)\n('min', 0)\n"
     ]
    },
    {
     "name": "stdout",
     "output_type": "stream",
     "text": [
      "./images_1640_1232_C95/149.png\n(1232, 1640, 3)\n<type 'numpy.ndarray'>\n('max', 255)\n('min', 0)\n"
     ]
    },
    {
     "name": "stdout",
     "output_type": "stream",
     "text": [
      "./images_1640_1232_C95/16.png\n(1232, 1640, 3)\n<type 'numpy.ndarray'>\n('max', 255)\n('min', 0)\n"
     ]
    },
    {
     "name": "stdout",
     "output_type": "stream",
     "text": [
      "./images_1640_1232_C95/45.png\n(1232, 1640, 3)\n<type 'numpy.ndarray'>\n('max', 255)\n('min', 0)\n"
     ]
    },
    {
     "name": "stdout",
     "output_type": "stream",
     "text": [
      "./images_1640_1232_C95/20.png\n(1232, 1640, 3)\n<type 'numpy.ndarray'>\n('max', 255)\n('min', 0)\n"
     ]
    },
    {
     "name": "stdout",
     "output_type": "stream",
     "text": [
      "./images_1640_1232_C95/98.png\n(1232, 1640, 3)\n<type 'numpy.ndarray'>\n('max', 255)\n('min', 0)\n"
     ]
    },
    {
     "name": "stdout",
     "output_type": "stream",
     "text": [
      "./images_1640_1232_C95/217.png\n(1232, 1640, 3)\n<type 'numpy.ndarray'>\n('max', 255)\n('min', 0)\n"
     ]
    },
    {
     "name": "stdout",
     "output_type": "stream",
     "text": [
      "./images_1640_1232_C95/31.png\n(1232, 1640, 3)\n<type 'numpy.ndarray'>\n('max', 255)\n('min', 0)\n"
     ]
    },
    {
     "name": "stdout",
     "output_type": "stream",
     "text": [
      "./images_1640_1232_C95/246.png\n(1232, 1640, 3)\n<type 'numpy.ndarray'>\n('max', 255)\n('min', 0)\n"
     ]
    },
    {
     "name": "stdout",
     "output_type": "stream",
     "text": [
      "./images_1640_1232_C95/130.png\n(1232, 1640, 3)\n<type 'numpy.ndarray'>\n('max', 255)\n('min', 0)\n"
     ]
    },
    {
     "name": "stdout",
     "output_type": "stream",
     "text": [
      "./images_1640_1232_C95/252.png\n(1232, 1640, 3)\n<type 'numpy.ndarray'>\n('max', 255)\n('min', 0)\n"
     ]
    },
    {
     "name": "stdout",
     "output_type": "stream",
     "text": [
      "./images_1640_1232_C95/304.png\n(1232, 1640, 3)\n<type 'numpy.ndarray'>\n('max', 255)\n('min', 0)\n"
     ]
    },
    {
     "name": "stdout",
     "output_type": "stream",
     "text": [
      "./images_1640_1232_C95/108.png\n(1232, 1640, 3)\n<type 'numpy.ndarray'>\n('max', 255)\n('min', 0)\n"
     ]
    },
    {
     "name": "stdout",
     "output_type": "stream",
     "text": [
      "./images_1640_1232_C95/26.png\n(1232, 1640, 3)\n<type 'numpy.ndarray'>\n('max', 255)\n('min', 0)\n"
     ]
    },
    {
     "name": "stdout",
     "output_type": "stream",
     "text": [
      "./images_1640_1232_C95/256.png\n(1232, 1640, 3)\n<type 'numpy.ndarray'>\n('max', 255)\n('min', 0)\n"
     ]
    },
    {
     "name": "stdout",
     "output_type": "stream",
     "text": [
      "./images_1640_1232_C95/312.png\n(1232, 1640, 3)\n<type 'numpy.ndarray'>\n('max', 255)\n('min', 0)\n"
     ]
    },
    {
     "name": "stdout",
     "output_type": "stream",
     "text": [
      "./images_1640_1232_C95/251.png\n(1232, 1640, 3)\n<type 'numpy.ndarray'>\n('max', 255)\n('min', 0)\n"
     ]
    },
    {
     "name": "stdout",
     "output_type": "stream",
     "text": [
      "./images_1640_1232_C95/121.png\n(1232, 1640, 3)\n<type 'numpy.ndarray'>\n('max', 255)\n('min', 0)\n"
     ]
    },
    {
     "name": "stdout",
     "output_type": "stream",
     "text": [
      "./images_1640_1232_C95/327.png\n(1232, 1640, 3)\n<type 'numpy.ndarray'>\n('max', 255)\n('min', 0)\n"
     ]
    },
    {
     "name": "stdout",
     "output_type": "stream",
     "text": [
      "./images_1640_1232_C95/95.png\n(1232, 1640, 3)\n<type 'numpy.ndarray'>\n('max', 255)\n('min', 0)\n"
     ]
    },
    {
     "name": "stdout",
     "output_type": "stream",
     "text": [
      "./images_1640_1232_C95/30.png\n(1232, 1640, 3)\n<type 'numpy.ndarray'>\n('max', 255)\n('min', 0)\n"
     ]
    },
    {
     "name": "stdout",
     "output_type": "stream",
     "text": [
      "./images_1640_1232_C95/169.png\n(1232, 1640, 3)\n<type 'numpy.ndarray'>\n('max', 255)\n('min', 0)\n"
     ]
    },
    {
     "name": "stdout",
     "output_type": "stream",
     "text": [
      "./images_1640_1232_C95/272.png\n(1232, 1640, 3)\n<type 'numpy.ndarray'>\n('max', 255)\n('min', 0)\n"
     ]
    },
    {
     "name": "stdout",
     "output_type": "stream",
     "text": [
      "./images_1640_1232_C95/162.png\n(1232, 1640, 3)\n<type 'numpy.ndarray'>\n('max', 255)\n('min', 0)\n"
     ]
    },
    {
     "name": "stdout",
     "output_type": "stream",
     "text": [
      "./images_1640_1232_C95/32.png\n(1232, 1640, 3)\n<type 'numpy.ndarray'>\n('max', 255)\n('min', 0)\n"
     ]
    },
    {
     "name": "stdout",
     "output_type": "stream",
     "text": [
      "./images_1640_1232_C95/42.png\n(1232, 1640, 3)\n<type 'numpy.ndarray'>\n('max', 255)\n('min', 0)\n"
     ]
    },
    {
     "name": "stdout",
     "output_type": "stream",
     "text": [
      "./images_1640_1232_C95/49.png\n(1232, 1640, 3)\n<type 'numpy.ndarray'>\n('max', 255)\n('min', 0)\n"
     ]
    },
    {
     "name": "stdout",
     "output_type": "stream",
     "text": [
      "./images_1640_1232_C95/11.png\n(1232, 1640, 3)\n<type 'numpy.ndarray'>\n('max', 255)\n('min', 0)\n"
     ]
    },
    {
     "name": "stdout",
     "output_type": "stream",
     "text": [
      "./images_1640_1232_C95/89.png\n(1232, 1640, 3)\n<type 'numpy.ndarray'>\n('max', 255)\n('min', 0)\n"
     ]
    },
    {
     "name": "stdout",
     "output_type": "stream",
     "text": [
      "./images_1640_1232_C95/213.png\n(1232, 1640, 3)\n<type 'numpy.ndarray'>\n('max', 255)\n('min', 0)\n"
     ]
    },
    {
     "name": "stdout",
     "output_type": "stream",
     "text": [
      "./images_1640_1232_C95/288.png\n(1232, 1640, 3)\n<type 'numpy.ndarray'>\n('max', 255)\n('min', 0)\n"
     ]
    },
    {
     "name": "stdout",
     "output_type": "stream",
     "text": [
      "./images_1640_1232_C95/153.png\n(1232, 1640, 3)\n<type 'numpy.ndarray'>\n('max', 255)\n('min', 0)\n"
     ]
    },
    {
     "name": "stdout",
     "output_type": "stream",
     "text": [
      "./images_1640_1232_C95/212.png\n(1232, 1640, 3)\n<type 'numpy.ndarray'>\n('max', 255)\n('min', 0)\n"
     ]
    },
    {
     "name": "stdout",
     "output_type": "stream",
     "text": [
      "./images_1640_1232_C95/69.png\n(1232, 1640, 3)\n<type 'numpy.ndarray'>\n('max', 255)\n('min', 0)\n"
     ]
    },
    {
     "name": "stdout",
     "output_type": "stream",
     "text": [
      "./images_1640_1232_C95/325.png\n(1232, 1640, 3)\n<type 'numpy.ndarray'>\n('max', 255)\n('min', 0)\n"
     ]
    },
    {
     "name": "stdout",
     "output_type": "stream",
     "text": [
      "./images_1640_1232_C95/285.png\n(1232, 1640, 3)\n<type 'numpy.ndarray'>\n('max', 255)\n('min', 0)\n"
     ]
    },
    {
     "name": "stdout",
     "output_type": "stream",
     "text": [
      "./images_1640_1232_C95/136.png\n(1232, 1640, 3)\n<type 'numpy.ndarray'>\n('max', 255)\n('min', 0)\n"
     ]
    },
    {
     "name": "stdout",
     "output_type": "stream",
     "text": [
      "./images_1640_1232_C95/109.png\n(1232, 1640, 3)\n<type 'numpy.ndarray'>\n('max', 255)\n('min', 0)\n"
     ]
    },
    {
     "name": "stdout",
     "output_type": "stream",
     "text": [
      "./images_1640_1232_C95/279.png\n(1232, 1640, 3)\n<type 'numpy.ndarray'>\n('max', 255)\n('min', 0)\n"
     ]
    },
    {
     "name": "stdout",
     "output_type": "stream",
     "text": [
      "./images_1640_1232_C95/147.png\n(1232, 1640, 3)\n<type 'numpy.ndarray'>\n('max', 255)\n('min', 0)\n"
     ]
    },
    {
     "name": "stdout",
     "output_type": "stream",
     "text": [
      "./images_1640_1232_C95/244.png\n(1232, 1640, 3)\n<type 'numpy.ndarray'>\n('max', 255)\n('min', 0)\n./images_1640_1232_C95/189.png\n"
     ]
    },
    {
     "name": "stdout",
     "output_type": "stream",
     "text": [
      "(1232, 1640, 3)\n<type 'numpy.ndarray'>\n('max', 255)\n('min', 0)\n./images_1640_1232_C95/277.png\n"
     ]
    },
    {
     "name": "stdout",
     "output_type": "stream",
     "text": [
      "(1232, 1640, 3)\n<type 'numpy.ndarray'>\n('max', 255)\n('min', 0)\n./images_1640_1232_C95/9.png\n(1232, 1640, 3)\n"
     ]
    },
    {
     "name": "stdout",
     "output_type": "stream",
     "text": [
      "<type 'numpy.ndarray'>\n('max', 255)\n('min', 0)\n./images_1640_1232_C95/282.png\n(1232, 1640, 3)\n<type 'numpy.ndarray'>\n('max', 255)\n('min', 0)\n"
     ]
    },
    {
     "name": "stdout",
     "output_type": "stream",
     "text": [
      "./images_1640_1232_C95/100.png\n(1232, 1640, 3)\n<type 'numpy.ndarray'>\n('max', 255)\n('min', 0)\n./images_1640_1232_C95/214.png\n"
     ]
    },
    {
     "name": "stdout",
     "output_type": "stream",
     "text": [
      "(1232, 1640, 3)\n<type 'numpy.ndarray'>\n('max', 255)\n('min', 0)\n./images_1640_1232_C95/243.png\n(1232, 1640, 3)\n"
     ]
    },
    {
     "name": "stdout",
     "output_type": "stream",
     "text": [
      "<type 'numpy.ndarray'>\n('max', 255)\n('min', 0)\n./images_1640_1232_C95/323.png\n(1232, 1640, 3)\n<type 'numpy.ndarray'>\n('max', 255)\n('min', 0)\n"
     ]
    },
    {
     "name": "stdout",
     "output_type": "stream",
     "text": [
      "./images_1640_1232_C95/166.png\n(1232, 1640, 3)\n<type 'numpy.ndarray'>\n('max', 255)\n('min', 0)\n./images_1640_1232_C95/201.png"
     ]
    },
    {
     "name": "stdout",
     "output_type": "stream",
     "text": [
      "\n(1232, 1640, 3)\n<type 'numpy.ndarray'>\n('max', 255)\n('min', 0)\n"
     ]
    },
    {
     "name": "stdout",
     "output_type": "stream",
     "text": [
      "./images_1640_1232_C95/80.png\n(1232, 1640, 3)\n<type 'numpy.ndarray'>\n('max', 255)\n('min', 0)\n./images_1640_1232_C95/43.png\n"
     ]
    },
    {
     "name": "stdout",
     "output_type": "stream",
     "text": [
      "(1232, 1640, 3)\n<type 'numpy.ndarray'>\n('max', 255)\n('min', 0)\n./images_1640_1232_C95/195.png\n(1232, 1640, 3)\n"
     ]
    },
    {
     "name": "stdout",
     "output_type": "stream",
     "text": [
      "<type 'numpy.ndarray'>\n('max', 255)\n('min', 0)\n./images_1640_1232_C95/12.png\n(1232, 1640, 3)\n"
     ]
    },
    {
     "name": "stdout",
     "output_type": "stream",
     "text": [
      "<type 'numpy.ndarray'>\n('max', 255)\n('min', 0)\n./images_1640_1232_C95/289.png\n"
     ]
    },
    {
     "name": "stdout",
     "output_type": "stream",
     "text": [
      "(1232, 1640, 3)\n<type 'numpy.ndarray'>\n('max', 255)\n('min', 0)\n./images_1640_1232_C95/254.png\n"
     ]
    },
    {
     "name": "stdout",
     "output_type": "stream",
     "text": [
      "(1232, 1640, 3)\n<type 'numpy.ndarray'>\n('max', 255)\n('min', 0)\n"
     ]
    },
    {
     "name": "stdout",
     "output_type": "stream",
     "text": [
      "./images_1640_1232_C95/24.png\n(1232, 1640, 3)\n<type 'numpy.ndarray'>\n('max', 255)\n('min', 0)\n./images_1640_1232_C95/273.png\n(1232, 1640, 3)\n"
     ]
    },
    {
     "name": "stdout",
     "output_type": "stream",
     "text": [
      "<type 'numpy.ndarray'>\n('max', 255)\n('min', 0)\n./images_1640_1232_C95/93.png\n(1232, 1640, 3)\n<type 'numpy.ndarray'>\n('max', 255)\n('min', 0)\n./images_1640_1232_C95/231.png\n(1232, 1640, 3)\n<type 'numpy.ndarray'>\n('max', 255)\n('min', 0)\n"
     ]
    },
    {
     "name": "stdout",
     "output_type": "stream",
     "text": [
      "./images_1640_1232_C95/6.png\n(1232, 1640, 3)\n<type 'numpy.ndarray'>\n('max', 255)\n('min', 0)\n"
     ]
    },
    {
     "name": "stdout",
     "output_type": "stream",
     "text": [
      "./images_1640_1232_C95/72.png\n(1232, 1640, 3)\n<type 'numpy.ndarray'>\n('max', 255)\n('min', 0)\n"
     ]
    },
    {
     "name": "stdout",
     "output_type": "stream",
     "text": [
      "./images_1640_1232_C95/52.png\n(1232, 1640, 3)\n<type 'numpy.ndarray'>\n('max', 255)\n('min', 0)\n"
     ]
    }
   ],
   "source": [
    "mtx = cal[1]\n",
    "dist = cal[2]\n",
    "cv2.namedWindow('image', cv2.WINDOW_NORMAL)\n",
    "cv2.resizeWindow('image', 1280,720)\n",
    "for idx, i in enumerate(images):\n",
    "    image = impath + i\n",
    "    print (image)\n",
    "    # frame = cv2.imread(image,0)\n",
    "    frame = cv2.imread(image)\n",
    "    print (frame.shape)\n",
    "    # ret,frame = cap.read()q\n",
    "    gray = cv2.cvtColor(frame, cv2.COLOR_BGR2GRAY)\n",
    "    gray2 = cv2.undistort(gray,mtx,dist)\n",
    "    im = np.abs((gray-gray2))\n",
    "    im = cv2.applyColorMap(im, cv2.COLORMAP_BONE)\n",
    "    print(type(im[1,1]))\n",
    "    print('max',np.max(im))\n",
    "    print('min',np.min(im))\n",
    "    cv2.imshow('image', im)\n",
    "    if cv2.waitKey() & 0xFF == ord('q'):\n",
    "        break\n",
    "\n",
    "cv2.destroyAllWindows()"
   ]
  },
  {
   "cell_type": "code",
   "execution_count": 28,
   "metadata": {},
   "outputs": [],
   "source": []
  },
  {
   "cell_type": "code",
   "execution_count": null,
   "metadata": {},
   "outputs": [],
   "source": []
  }
 ],
 "metadata": {
  "kernelspec": {
   "display_name": "Python 2",
   "language": "python",
   "name": "python2"
  },
  "language_info": {
   "codemirror_mode": {
    "name": "ipython",
    "version": 2
   },
   "file_extension": ".py",
   "mimetype": "text/x-python",
   "name": "python",
   "nbconvert_exporter": "python",
   "pygments_lexer": "ipython2",
   "version": "2.7.6"
  }
 },
 "nbformat": 4,
 "nbformat_minor": 0
}
